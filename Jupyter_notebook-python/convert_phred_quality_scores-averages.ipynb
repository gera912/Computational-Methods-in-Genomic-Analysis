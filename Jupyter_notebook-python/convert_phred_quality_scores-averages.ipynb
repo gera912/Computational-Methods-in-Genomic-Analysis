{
 "cells": [
  {
   "cell_type": "markdown",
   "metadata": {
    "deletable": false,
    "editable": false,
    "nbgrader": {
     "checksum": "e27bf555a91fca62d1a5c018e01dbd4f",
     "grade": false,
     "grade_id": "cell-a024695be416fb41",
     "locked": true,
     "schema_version": 1,
     "solution": false
    }
   },
   "source": [
    "Before you turn this problem in, make sure everything runs as expected. First, restart the kernel (in the menubar, select Kernel→Restart) and then run all cells (in the menubar, select Cell→Run All).\n",
    "\n",
    "Make sure you fill in any place that says YOUR CODE HERE or \"YOUR ANSWER HERE\", as well as your name and collaborators below:"
   ]
  },
  {
   "cell_type": "markdown",
   "metadata": {},
   "source": [
    "# Bi 621 – Problem Set 3\n",
    "## Due before class, Monday, July 9\n",
    "\n",
    "The goal of this problem set is to convert phred quality scores from their single letter encoding into integers and to calculate the average phred quality score for a single sequence. **Be sure to remove the ```raise NotImplementedError()``` from the code.**"
   ]
  },
  {
   "cell_type": "code",
   "execution_count": 10,
   "metadata": {},
   "outputs": [],
   "source": [
    "#initializing variables, do not change\n",
    "id = \"@GAAATG_1_1101_4446_2137_1\"\n",
    "seq = \"TGCAGGTTGAGTTCTCGCTGTCCCGCCCCCATCTCTTCTCTTCCAGTCTGGCTCTGGAGCAGTTGAGCCCAGCTCAGGTCCGCCGGAGGAGACCG\"\n",
    "phred_score = \"FFHHHHHJJJJIJIJJJIJJJJJJIIIJJJEHJJJJJJJIJIDGEHIJJFIGGGHFGHGFFF@EEDE@C??DDDDDDD@CDDDDBBDDDBDBDD@\""
   ]
  },
  {
   "cell_type": "markdown",
   "metadata": {},
   "source": [
    "# Part 1 – Convert_phred\n",
    "Write a function that takes a single character as it's parameter and converts that parameter into a phred score, and returns the phred score.\n",
    ">*Remember: Illumina 1.8+ phred scores are offset by a factor of 33 from 0. Review the lecture notes as well as the [Wikipedia FASTQ page](https://en.wikipedia.org/wiki/FASTQ_format) to see how to do the conversion.*\n",
    "\n",
    "*HINT* – what does the ord() function do? Check the documentation"
   ]
  },
  {
   "cell_type": "code",
   "execution_count": 11,
   "metadata": {
    "deletable": false,
    "nbgrader": {
     "checksum": "ceb458b1365e764c3ed0f20bd58ef3c3",
     "grade": false,
     "grade_id": "convert_phred",
     "locked": false,
     "schema_version": 1,
     "solution": true
    }
   },
   "outputs": [],
   "source": [
    "# Creates a method that takes an instance variable.\n",
    "def convert_phred(letter):\n",
    "    \"\"\"Converts a single character into a phred score\"\"\"\n",
    "    \n",
    "    # Creates a variable that stores a difference \n",
    "    # of -33 of the unicode point from the instance variable. \n",
    "    x=ord(letter) - 33\n",
    "    \n",
    "    # returns a variable with the result.\n",
    "    return x\n",
    "  "
   ]
  },
  {
   "cell_type": "markdown",
   "metadata": {},
   "source": [
    "Check to see that your code works."
   ]
  },
  {
   "cell_type": "code",
   "execution_count": 12,
   "metadata": {},
   "outputs": [
    {
     "data": {
      "text/plain": [
       "32"
      ]
     },
     "execution_count": 12,
     "metadata": {},
     "output_type": "execute_result"
    }
   ],
   "source": [
    "# Calls a method. \n",
    "convert_phred('A')"
   ]
  },
  {
   "cell_type": "code",
   "execution_count": 13,
   "metadata": {
    "deletable": false,
    "editable": false,
    "nbgrader": {
     "checksum": "ad3127a12d7991276d29a6878903bb77",
     "grade": true,
     "grade_id": "correct_convert_phred",
     "locked": true,
     "points": 3,
     "schema_version": 1,
     "solution": false
    }
   },
   "outputs": [],
   "source": [
    "#autograder tests, do not change\n",
    "\"\"\"Check that convert_phred returns the correct value for several different inputs\"\"\"\n",
    "assert convert_phred(\"I\") == 40\n",
    "assert convert_phred(\"C\") == 34\n",
    "assert convert_phred(\"2\") == 17\n",
    "assert convert_phred(\"@\") == 31\n",
    "assert convert_phred(\"$\") == 3"
   ]
  },
  {
   "cell_type": "markdown",
   "metadata": {},
   "source": [
    "# Part 2 – Convert the entire phred string\n",
    "Write a loop print each letter in the `phred_score` string and its corresponding score in the following format:\n",
    "```\n",
    "0: F - 37\n",
    "1: F - 37\n",
    "2: H - 39\n",
    "3: H - 39\n",
    "4: H - 39\n",
    "5: H - 39\n",
    "6: H - 39\n",
    "7: J - 41\n",
    "...```\n",
    "Reminder, start simply.\n",
    "* Write a loop to iterate over each letter in the `phred_score` and print them out.\n",
    "* Modify your loop to print the letter and the corresponding score. *Be sure to use your `convert_phred` function*.\n",
    "* Alter the loop to print out an index: 0 for the first letter, 1 for the 2nd letter, etc.\n",
    "* Be sure your formatting matches the requested output."
   ]
  },
  {
   "cell_type": "code",
   "execution_count": 14,
   "metadata": {
    "deletable": false,
    "nbgrader": {
     "checksum": "96d380ac37a6d7c2e635de084e446d8b",
     "grade": true,
     "grade_id": "print_phred_score",
     "locked": false,
     "points": 3,
     "schema_version": 1,
     "solution": true
    }
   },
   "outputs": [
    {
     "name": "stdout",
     "output_type": "stream",
     "text": [
      "0: F - 37\n",
      "1: F - 37\n",
      "2: H - 39\n",
      "3: H - 39\n",
      "4: H - 39\n",
      "5: H - 39\n",
      "6: H - 39\n",
      "7: J - 41\n",
      "8: J - 41\n",
      "9: J - 41\n",
      "10: J - 41\n",
      "11: I - 40\n",
      "12: J - 41\n",
      "13: I - 40\n",
      "14: J - 41\n",
      "15: J - 41\n",
      "16: J - 41\n",
      "17: I - 40\n",
      "18: J - 41\n",
      "19: J - 41\n",
      "20: J - 41\n",
      "21: J - 41\n",
      "22: J - 41\n",
      "23: J - 41\n",
      "24: I - 40\n",
      "25: I - 40\n",
      "26: I - 40\n",
      "27: J - 41\n",
      "28: J - 41\n",
      "29: J - 41\n",
      "30: E - 36\n",
      "31: H - 39\n",
      "32: J - 41\n",
      "33: J - 41\n",
      "34: J - 41\n",
      "35: J - 41\n",
      "36: J - 41\n",
      "37: J - 41\n",
      "38: J - 41\n",
      "39: I - 40\n",
      "40: J - 41\n",
      "41: I - 40\n",
      "42: D - 35\n",
      "43: G - 38\n",
      "44: E - 36\n",
      "45: H - 39\n",
      "46: I - 40\n",
      "47: J - 41\n",
      "48: J - 41\n",
      "49: F - 37\n",
      "50: I - 40\n",
      "51: G - 38\n",
      "52: G - 38\n",
      "53: G - 38\n",
      "54: H - 39\n",
      "55: F - 37\n",
      "56: G - 38\n",
      "57: H - 39\n",
      "58: G - 38\n",
      "59: F - 37\n",
      "60: F - 37\n",
      "61: F - 37\n",
      "62: @ - 31\n",
      "63: E - 36\n",
      "64: E - 36\n",
      "65: D - 35\n",
      "66: E - 36\n",
      "67: @ - 31\n",
      "68: C - 34\n",
      "69: ? - 30\n",
      "70: ? - 30\n",
      "71: D - 35\n",
      "72: D - 35\n",
      "73: D - 35\n",
      "74: D - 35\n",
      "75: D - 35\n",
      "76: D - 35\n",
      "77: D - 35\n",
      "78: @ - 31\n",
      "79: C - 34\n",
      "80: D - 35\n",
      "81: D - 35\n",
      "82: D - 35\n",
      "83: D - 35\n",
      "84: B - 33\n",
      "85: B - 33\n",
      "86: D - 35\n",
      "87: D - 35\n",
      "88: D - 35\n",
      "89: B - 33\n",
      "90: D - 35\n",
      "91: B - 33\n",
      "92: D - 35\n",
      "93: D - 35\n",
      "94: @ - 31\n"
     ]
    }
   ],
   "source": [
    "# Creates a variable\n",
    "count = 0\n",
    "\n",
    "# A for loop that goes through a string.\n",
    "for letter in phred_score:\n",
    "    \n",
    "    # prints a statement in a specific format\n",
    "    print(\"{0}: {1} - {2}\".format(count, letter, convert_phred(letter) ))\n",
    "    \n",
    "    # Adds a count of 1 to the variable.\n",
    "    count= count + 1\n"
   ]
  },
  {
   "cell_type": "markdown",
   "metadata": {},
   "source": [
    "Write a second function that takes the original, unmodified `phred_score` string as a parameter. This function should calculate the average quality score of the whole phred string.\n",
    "> Struggling? See some [hints](PS3_hints.ipynb)"
   ]
  },
  {
   "cell_type": "code",
   "execution_count": 15,
   "metadata": {
    "deletable": false,
    "nbgrader": {
     "checksum": "60acc8f9dc4529970991d8e3a2f03921",
     "grade": false,
     "grade_id": "qual_score",
     "locked": false,
     "schema_version": 1,
     "solution": true
    }
   },
   "outputs": [],
   "source": [
    "# Creates a method that takes an instance variable.\n",
    "def qual_score(phred_score):\n",
    "    \"\"\"Calculates a quality score from a phred score\"\"\"\n",
    "    \n",
    "    # Creates a variable\n",
    "    count = 0\n",
    "    total = 0\n",
    "    \n",
    "    # A for loop that goes through a string.\n",
    "    for letter in phred_score:\n",
    "        \n",
    "        # Creates a variable to store the total sum of the phred scores.\n",
    "        total= convert_phred(letter) + total\n",
    "        \n",
    "        # Adds a count of 1 to the variable.\n",
    "        count = count + 1\n",
    "        \n",
    "    # returns the average result for the quuality score.\n",
    "    return (total/count)"
   ]
  },
  {
   "cell_type": "code",
   "execution_count": 16,
   "metadata": {},
   "outputs": [
    {
     "name": "stdout",
     "output_type": "stream",
     "text": [
      "37.62105263157895\n"
     ]
    }
   ],
   "source": [
    "# Prints a statement.\n",
    "print(qual_score(phred_score))"
   ]
  },
  {
   "cell_type": "code",
   "execution_count": 17,
   "metadata": {
    "deletable": false,
    "editable": false,
    "nbgrader": {
     "checksum": "ecc31738edc5de3a4aa42796aac78893",
     "grade": true,
     "grade_id": "qual_score_call_fxn",
     "locked": true,
     "points": 1,
     "schema_version": 1,
     "solution": false
    }
   },
   "outputs": [],
   "source": [
    "#autograder tests, do not change\n",
    "old_convert_phred = convert_phred\n",
    "del convert_phred\n",
    "\n",
    "try:\n",
    "    qual_score(phred_score)\n",
    "except NameError:\n",
    "    pass\n",
    "else:\n",
    "    raise AssertionError(\"qual_score does not call convert_phred\")\n",
    "finally:\n",
    "    convert_phred = old_convert_phred\n",
    "    del old_convert_phred"
   ]
  },
  {
   "cell_type": "code",
   "execution_count": 18,
   "metadata": {
    "deletable": false,
    "editable": false,
    "nbgrader": {
     "checksum": "0e8ee8af004c66fbd1c436ca8b041702",
     "grade": true,
     "grade_id": "correct_qual_score",
     "locked": true,
     "points": 3,
     "schema_version": 1,
     "solution": false
    }
   },
   "outputs": [],
   "source": [
    "#autograder tests, do not change\n",
    "assert qual_score(phred_score) == 37.62105263157895"
   ]
  },
  {
   "cell_type": "code",
   "execution_count": null,
   "metadata": {},
   "outputs": [],
   "source": []
  },
  {
   "cell_type": "code",
   "execution_count": null,
   "metadata": {},
   "outputs": [],
   "source": []
  }
 ],
 "metadata": {
  "kernelspec": {
   "display_name": "Python 3",
   "language": "python",
   "name": "python3"
  },
  "language_info": {
   "codemirror_mode": {
    "name": "ipython",
    "version": 3
   },
   "file_extension": ".py",
   "mimetype": "text/x-python",
   "name": "python",
   "nbconvert_exporter": "python",
   "pygments_lexer": "ipython3",
   "version": "3.7.3"
  }
 },
 "nbformat": 4,
 "nbformat_minor": 1
}
