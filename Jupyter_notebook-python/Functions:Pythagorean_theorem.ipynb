{
 "cells": [
  {
   "cell_type": "markdown",
   "metadata": {
    "deletable": false,
    "editable": false,
    "nbgrader": {
     "checksum": "3717442e67362036b8ec3054338dad8d",
     "grade": false,
     "grade_id": "cell-7aba5f28644c8c10",
     "locked": true,
     "schema_version": 1,
     "solution": false
    }
   },
   "source": [
    "Before you turn this problem in, make sure everything runs as expected. First, **restart the kernel** (in the menubar, select Kernel$\\rightarrow$Restart) and then **run all cells** (in the menubar, select Cell$\\rightarrow$Run All).\n",
    "\n",
    "Make sure you fill in any place that says `YOUR CODE HERE` or \"YOUR ANSWER HERE\", as well as your name and collaborators below:"
   ]
  },
  {
   "cell_type": "code",
   "execution_count": 1,
   "metadata": {},
   "outputs": [],
   "source": [
    "NAME = \"Gera Perez\"\n",
    "COLLABORATORS = \"\""
   ]
  },
  {
   "cell_type": "markdown",
   "metadata": {
    "deletable": false,
    "editable": false,
    "nbgrader": {
     "checksum": "537f1600e43d25c785d329d20de8d28a",
     "grade": false,
     "grade_id": "cell-1f9f53a71935e8b3",
     "locked": true,
     "schema_version": 1,
     "solution": false
    }
   },
   "source": [
    "# ICA7 - Transitioning to Python: Functions"
   ]
  },
  {
   "cell_type": "markdown",
   "metadata": {
    "deletable": false,
    "editable": false,
    "nbgrader": {
     "checksum": "578b606d6c3fa6890b484186b1852bf2",
     "grade": false,
     "grade_id": "cell-11fb0e028df43203",
     "locked": true,
     "schema_version": 1,
     "solution": false
    }
   },
   "source": [
    "## Write a function to calculate the Pythagorean theorem\n",
    "$$a^2 + b^2 = c^2$$\n",
    "1. The function should take 2 parameters (a and b), compute the value of c and return it\n",
    "2. Call your function with several different values for a and b and print the results\n",
    "3. Check your work with a calculator\n",
    "4. After writing your function in Jupyter Notebook, convert it to a .py file and execute it from the command line\n",
    "\n",
    "Turn in your completed Jupyter Notebook and your .py file to GitHub."
   ]
  },
  {
   "cell_type": "code",
   "execution_count": 2,
   "metadata": {
    "deletable": false,
    "nbgrader": {
     "checksum": "d107c1f8629cae55d4a90b19ed9c0ff2",
     "grade": false,
     "grade_id": "cell-f0ce8715e4e9a546",
     "locked": false,
     "schema_version": 1,
     "solution": true
    }
   },
   "outputs": [],
   "source": [
    "# Imports a module.\n",
    "import math\n",
    "\n",
    "# Creates a method that takes two parameters.\n",
    "def pythag(a,b):\n",
    "    '''Computes the length of the hypotenuse of a right triangle given the lengths\n",
    "    of the other two sides.'''\n",
    "    \n",
    "    # creates a variable that squares each parameter then computes an addition. \n",
    "    x = (a**2) + (b**2) \n",
    "    \n",
    "    # creates a variable that stores the square root of a previous result.\n",
    "    c = math.sqrt(x)\n",
    "    \n",
    "    # Returns a variable that has a result.\n",
    "    return c"
   ]
  },
  {
   "cell_type": "code",
   "execution_count": 3,
   "metadata": {},
   "outputs": [
    {
     "data": {
      "text/plain": [
       "2.23606797749979"
      ]
     },
     "execution_count": 3,
     "metadata": {},
     "output_type": "execute_result"
    }
   ],
   "source": [
    "# calls a method\n",
    "pythag(1,2)"
   ]
  },
  {
   "cell_type": "code",
   "execution_count": 4,
   "metadata": {
    "deletable": false,
    "editable": false,
    "nbgrader": {
     "checksum": "347c9846867f3566ba83fa1e26819719",
     "grade": true,
     "grade_id": "cell-90ad85a951d5e183",
     "locked": true,
     "points": 5,
     "schema_version": 1,
     "solution": false
    }
   },
   "outputs": [],
   "source": [
    "'''Check function results, do not change this cell'''\n",
    "assert pythag(3,4) == 5, \"fails 3,5 test\"\n",
    "assert pythag(5,12) == 13, \"fails 5,12 test\"\n",
    "assert pythag(9,40) == 41, \"fails 9,40 test\""
   ]
  },
  {
   "cell_type": "markdown",
   "metadata": {
    "deletable": false,
    "editable": false,
    "nbgrader": {
     "checksum": "0911490dc6810ceb79d8cf38d73e8d5f",
     "grade": false,
     "grade_id": "cell-19bdd7e5299fb195",
     "locked": true,
     "schema_version": 1,
     "solution": false
    }
   },
   "source": [
    "Convert your Jupyter notebook to a script and be sure to upload the script to your repo. Include the name of your script file in the text box below."
   ]
  },
  {
   "cell_type": "markdown",
   "metadata": {
    "collapsed": true,
    "deletable": false,
    "nbgrader": {
     "checksum": "ab4a5ccf71f76bc64e2ffd02c96c581b",
     "grade": true,
     "grade_id": "cell-84c60331beea15a6",
     "locked": false,
     "points": 5,
     "schema_version": 1,
     "solution": true
    }
   },
   "source": [
    "ICA7.py"
   ]
  },
  {
   "cell_type": "code",
   "execution_count": 5,
   "metadata": {},
   "outputs": [],
   "source": []
  },
  {
   "cell_type": "code",
   "execution_count": null,
   "metadata": {},
   "outputs": [],
   "source": []
  }
 ],
 "metadata": {
  "kernelspec": {
   "display_name": "Python 3",
   "language": "python",
   "name": "python3"
  },
  "language_info": {
   "codemirror_mode": {
    "name": "ipython",
    "version": 3
   },
   "file_extension": ".py",
   "mimetype": "text/x-python",
   "name": "python",
   "nbconvert_exporter": "python",
   "pygments_lexer": "ipython3",
   "version": "3.7.3"
  }
 },
 "nbformat": 4,
 "nbformat_minor": 2
}
