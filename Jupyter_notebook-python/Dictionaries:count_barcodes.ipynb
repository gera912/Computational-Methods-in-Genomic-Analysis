{
 "cells": [
  {
   "cell_type": "markdown",
   "metadata": {
    "deletable": false,
    "editable": false,
    "nbgrader": {
     "checksum": "90cd7494d6d64596af56ff58ae092e27",
     "grade": false,
     "grade_id": "cell-515f2da4fa0a8424",
     "locked": true,
     "schema_version": 1,
     "solution": false
    }
   },
   "source": [
    "Before you turn this problem in, make sure everything runs as expected. First, **restart the kernel** (in the menubar, select Kernel$\\rightarrow$Restart) and then **run all cells** (in the menubar, select Cell$\\rightarrow$Run All).\n",
    "\n",
    "Make sure you fill in any place that says `YOUR CODE HERE` or \"YOUR ANSWER HERE\", as well as your name and collaborators below:"
   ]
  },
  {
   "cell_type": "code",
   "execution_count": 17,
   "metadata": {},
   "outputs": [],
   "source": [
    "NAME = \"Gera Perez\"\n",
    "COLLABORATORS = \"\""
   ]
  },
  {
   "cell_type": "markdown",
   "metadata": {
    "deletable": false,
    "editable": false,
    "nbgrader": {
     "checksum": "0c276fe862a6a9c238c63cde98e64b02",
     "grade": false,
     "grade_id": "cell-e74c9dab0e1e7e14",
     "locked": true,
     "schema_version": 1,
     "solution": false
    }
   },
   "source": [
    "# ICA8 - Using a dictionary to count barcodes\n",
    "The goal of this assignment is to use a dictionary to count the number of times each barcode appears in a sequencing dataset. Be sure to follow the directions in the assignment, or the unit tests will fail. When you begin coding, remove the ```raise NotImplementedError()``` command.\n",
    "\n",
    "Decompress s_1_sequence.txt.gz into your working directory on your own computer. Remember to start with a subset of the data to test your code. (Suggestion: `head -40 s_1_sequence.txt > test.txt` in your terminal) Be sure to change back to s_1_sequence.txt for your final submission."
   ]
  },
  {
   "cell_type": "code",
   "execution_count": 18,
   "metadata": {
    "deletable": false,
    "nbgrader": {
     "checksum": "c8973a65c0a536fe153e802a7f039742",
     "grade": false,
     "grade_id": "cell-1975770b48339f7e",
     "locked": false,
     "schema_version": 1,
     "solution": true
    }
   },
   "outputs": [],
   "source": [
    "# create a dictionary called barcodes\n",
    "\n",
    "barcodes = {}\n",
    "\n",
    "        \n",
    "\n",
    "        \n",
    "        "
   ]
  },
  {
   "cell_type": "code",
   "execution_count": 19,
   "metadata": {
    "deletable": false,
    "editable": false,
    "nbgrader": {
     "checksum": "64a8a8ecf811f97215e3621beb33c49a",
     "grade": true,
     "grade_id": "cell-3fdd0ee971a28222",
     "locked": true,
     "points": 1,
     "schema_version": 1,
     "solution": false
    }
   },
   "outputs": [],
   "source": [
    "#Autograder tests, do not change\n",
    "assert barcodes == {}, \"barcodes not empty dictionary\""
   ]
  },
  {
   "cell_type": "markdown",
   "metadata": {
    "deletable": false,
    "editable": false,
    "nbgrader": {
     "checksum": "8d0842e7e6960a570aead82dd1784193",
     "grade": false,
     "grade_id": "cell-f2042ad984d02b51",
     "locked": true,
     "schema_version": 1,
     "solution": false
    }
   },
   "source": [
    "# Populate your dictionary\n",
    "* Read each FASTQ record and pull the barcode off the sequence from each record.\n",
    "> [Hint](hint1.ipynb)\n",
    "* Each barcode will be a key for your dictionary. Increment the counter for each barcode in the dictionary when you encounter that barcode in a sequence.\n",
    "> [Hint](hint2.txt)\n",
    "\n",
    "*Remember to test your code each step of the way.*"
   ]
  },
  {
   "cell_type": "code",
   "execution_count": 20,
   "metadata": {
    "deletable": false,
    "nbgrader": {
     "checksum": "7b6f44e8d63b86a55b622f2c758c1386",
     "grade": false,
     "grade_id": "cell-cf535d338bde787c",
     "locked": false,
     "schema_version": 1,
     "solution": true
    }
   },
   "outputs": [],
   "source": [
    "# opens a text file to read and stores the text file as a variable.\n",
    "with open(\"/Users/gerardoperez/Documents/shell/s_1_sequence.txt\",\"r\") as fh:   \n",
    "    \n",
    "    # Initiates a variable.\n",
    "    count = 0\n",
    "    \n",
    "    # A for loop that goes through each line in the text file.\n",
    "    for line in fh:\n",
    "        \n",
    "        # updates the variable by an addition of one after each loop.\n",
    "        count = count + 1\n",
    "        \n",
    "        # If statemnt to get the second line from each record in text file.\n",
    "        if count%4 == 2:\n",
    "            \n",
    "            # Intitates a variable.\n",
    "            Num = 0\n",
    "            \n",
    "            # Slices the first 5 characters of the line.\n",
    "            bcode = line[0:5]\n",
    "            \n",
    "            # if else statement that checks if 5 character slice is in dictionary.\n",
    "            if bcode in barcodes:\n",
    "                \n",
    "                # if true then add a 1 to the value of the key.\n",
    "                barcodes[bcode] = barcodes[bcode] + 1\n",
    "            else:\n",
    "                \n",
    "                # if false, then store 1 as a value for the key.\n",
    "                barcodes[bcode] = 1\n",
    "            \n",
    "# closes text file            \n",
    "fh.close()\n"
   ]
  },
  {
   "cell_type": "code",
   "execution_count": 21,
   "metadata": {
    "deletable": false,
    "editable": false,
    "nbgrader": {
     "checksum": "69699a4f1c19966ef5216199abfa6a59",
     "grade": true,
     "grade_id": "cell-64c89f5df9ff8749",
     "locked": true,
     "points": 5,
     "schema_version": 1,
     "solution": false
    }
   },
   "outputs": [],
   "source": [
    "#Autograder tests, do not change\n",
    "assert len(barcodes) == 976, \"Dictionary wrong length\"\n",
    "assert barcodes[\"ACTGC\"] == 10659, \"ACTGC count incorrect\""
   ]
  },
  {
   "cell_type": "markdown",
   "metadata": {
    "deletable": false,
    "editable": false,
    "nbgrader": {
     "checksum": "49ff78050dc12dfd81bf52bf9c8894f9",
     "grade": false,
     "grade_id": "cell-952b34258d89437b",
     "locked": true,
     "schema_version": 1,
     "solution": false
    }
   },
   "source": [
    "# Write out your results\n",
    "* Write all the barcodes in your dictionary along with their counts to a file called `barcodes.tsv` in your repo. You should order the barcodes from highest counts to fewest counts. The format should be `barcode` [tab] `count`."
   ]
  },
  {
   "cell_type": "code",
   "execution_count": 22,
   "metadata": {
    "deletable": false,
    "nbgrader": {
     "checksum": "0efc7735723cafad6df6391141e099b3",
     "grade": false,
     "grade_id": "cell-53455dcfc87a23d3",
     "locked": false,
     "schema_version": 1,
     "solution": true
    }
   },
   "outputs": [],
   "source": [
    "\n",
    "# creates an empty dictionary\n",
    "my_dict = {}\n",
    "\n",
    "# A for loop that goes through the items in the dictionary.\n",
    "for key, value in barcodes.items(): \n",
    "    \n",
    "    # Reverses key to value and value to key in dictionary.\n",
    "    my_dict[value] = key \n",
    "\n",
    "\n",
    "\n",
    "# opens a tsv file to write and stores the tsv file into a variable.\n",
    "f = open(\"barcodes1.tsv\", \"w\")\n",
    "\n",
    "# A for loop that sorts the keys in a dictionary and reverses the order\n",
    "# from highest to lowest.\n",
    "for key in sorted(my_dict.keys(), reverse = True):\n",
    "\n",
    "    # writes the formatted output to the tsv file.\n",
    "    f.write(\"%s\\t%s\\n\" % (my_dict[key],key))\n",
    "\n",
    "# closes tsv file\n",
    "f.close()\n"
   ]
  },
  {
   "cell_type": "code",
   "execution_count": 23,
   "metadata": {
    "deletable": false,
    "editable": false,
    "nbgrader": {
     "checksum": "afda69e46974a1d89c06804e2803aa45",
     "grade": true,
     "grade_id": "cell-ec5fb4849021814c",
     "locked": true,
     "points": 3,
     "schema_version": 1,
     "solution": false
    }
   },
   "outputs": [],
   "source": [
    "#Autograder tests, do not change\n",
    "import os\n",
    "assert os.path.isfile(\"barcodes.tsv\"), \"Requested file not created\""
   ]
  },
  {
   "cell_type": "markdown",
   "metadata": {
    "deletable": false,
    "editable": false,
    "nbgrader": {
     "checksum": "96e9b479effcc1ae47527948416072be",
     "grade": false,
     "grade_id": "cell-0488232bff86fbe8",
     "locked": true,
     "schema_version": 1,
     "solution": false
    }
   },
   "source": [
    "List (at least) three data types that can be used as dictionary keys."
   ]
  },
  {
   "cell_type": "markdown",
   "metadata": {
    "deletable": false,
    "nbgrader": {
     "checksum": "9478599c63b50f74201c59d5dc00929a",
     "grade": true,
     "grade_id": "cell-86682f41d9588a7f",
     "locked": false,
     "points": 1,
     "schema_version": 1,
     "solution": true
    }
   },
   "source": [
    "Integers, floats and strings."
   ]
  },
  {
   "cell_type": "markdown",
   "metadata": {
    "deletable": false,
    "editable": false,
    "nbgrader": {
     "checksum": "10c026ab2fba4dd5681f456659b7b048",
     "grade": false,
     "grade_id": "cell-d384e02c7efb0310",
     "locked": true,
     "schema_version": 1,
     "solution": false
    }
   },
   "source": [
    "**CHALLENGE**: Determine how many reads fall below a specified quality score.\n",
    "* Translate the quality scores for each FASTQ record and determine the average quality score for that read (hint: what encoding?).\n",
    "* Tally the number of reads that fall below the threshold (you choose the threshold).\n",
    "* Print the number of sequences read, and the number and the percent of reads that fell below your chosen threshold."
   ]
  },
  {
   "cell_type": "code",
   "execution_count": 24,
   "metadata": {
    "deletable": false,
    "nbgrader": {
     "checksum": "863e030bd644613c52f271927a719e82",
     "grade": true,
     "grade_id": "cell-51a743d97c53cb54",
     "locked": false,
     "points": 0,
     "schema_version": 1,
     "solution": true
    }
   },
   "outputs": [
    {
     "data": {
      "text/plain": [
       "'Report results for challenge here, including the threshold you chose'"
      ]
     },
     "execution_count": 24,
     "metadata": {},
     "output_type": "execute_result"
    }
   ],
   "source": [
    "'''Report results for challenge here, including the threshold you chose'''\n",
    "# YOUR CODE HERE\n"
   ]
  },
  {
   "cell_type": "code",
   "execution_count": null,
   "metadata": {},
   "outputs": [],
   "source": []
  },
  {
   "cell_type": "code",
   "execution_count": null,
   "metadata": {},
   "outputs": [],
   "source": []
  },
  {
   "cell_type": "code",
   "execution_count": null,
   "metadata": {},
   "outputs": [],
   "source": []
  }
 ],
 "metadata": {
  "kernelspec": {
   "display_name": "Python 3",
   "language": "python",
   "name": "python3"
  },
  "language_info": {
   "codemirror_mode": {
    "name": "ipython",
    "version": 3
   },
   "file_extension": ".py",
   "mimetype": "text/x-python",
   "name": "python",
   "nbconvert_exporter": "python",
   "pygments_lexer": "ipython3",
   "version": "3.7.3"
  }
 },
 "nbformat": 4,
 "nbformat_minor": 2
}
