{
 "cells": [
  {
   "cell_type": "markdown",
   "metadata": {},
   "source": [
    "# Bi 621 – Problem Set 4\n",
    "\n",
    "Our goal with this assignment is to assess the overall quality of a lane of Illumina sequencing data. We will be working with (part of) a lane of 101bp long Illumina sequence data. Our first goal is to calculate the average quality score along each of the 101bp of data we have. Once that is complete, we will extend our calculations to include variance and standard deviation, and in part 3, the median. Finally, you will calculate and then plot the distribution of quality scores at two particular basepair positions.\n",
    "\n",
    "This assigment will take you through the algorithms step-wise. In the real world, you would update the original code to add functionality. However, since this is auto-graded, please \"write new code\" for each step instead of simply updating the code you have written previously."
   ]
  },
  {
   "cell_type": "markdown",
   "metadata": {},
   "source": [
    "#### Part 1\n",
    "1. Copy the file ```lane1_NoIndex_L001_R1_003.fastq.gz``` from HPC to the folder **directly above** PS4 folder and reference it with the relative file path (the automated grading will fail if you do not follow this direction). This file contains 4 million Illumina reads from a stickleback experiment. Do NOT try to upload this file to GitHub.\n",
    "2. Create an array called ```mean_scores``` that contains 101 elements, each a float value initialized to ```0.0```."
   ]
  },
  {
   "cell_type": "code",
   "execution_count": 1,
   "metadata": {
    "deletable": false,
    "nbgrader": {
     "checksum": "e4134cd55253549cf0c32860788b4398",
     "grade": false,
     "grade_id": "init_array",
     "locked": false,
     "schema_version": 1,
     "solution": true
    }
   },
   "outputs": [],
   "source": [
    "# Creates a list\n",
    "mean_scores = []\n",
    "\n",
    "# A for loop to insert 101 elements.\n",
    "for i in range(101):\n",
    "    \n",
    "    # Adds a float to the list.\n",
    "    mean_scores.append(0.0)\n",
    "\n"
   ]
  },
  {
   "cell_type": "code",
   "execution_count": 2,
   "metadata": {
    "deletable": false,
    "editable": false,
    "nbgrader": {
     "checksum": "fc59deb3b38ad9d9a4396264dcac73bd",
     "grade": true,
     "grade_id": "check_empty_array",
     "locked": true,
     "points": 1,
     "schema_version": 1,
     "solution": false
    }
   },
   "outputs": [],
   "source": [
    "#autograder tests, do not change\n",
    "assert len(mean_scores) == 101\n",
    "assert mean_scores[54] == 0.0"
   ]
  },
  {
   "cell_type": "markdown",
   "metadata": {},
   "source": [
    "Write a function to convert the phred score."
   ]
  },
  {
   "cell_type": "code",
   "execution_count": 3,
   "metadata": {
    "deletable": false,
    "nbgrader": {
     "checksum": "13f5d5cfa6dad9bb974b0befe0ef523e",
     "grade": false,
     "grade_id": "convert_phred",
     "locked": false,
     "schema_version": 1,
     "solution": true
    }
   },
   "outputs": [],
   "source": [
    "# Creates a method that takes an instance variable.\n",
    "def convert_phred(letter):\n",
    "    \"\"\"Converts a single character into a phred score\"\"\"\n",
    "    \n",
    "    # Creates a variable that stores a difference \n",
    "    # of -33 of the unicode point from the instance variable. \n",
    "    x = ord(letter) - 33\n",
    "    \n",
    "    # returns a variable with the result.\n",
    "    return x"
   ]
  },
  {
   "cell_type": "code",
   "execution_count": 4,
   "metadata": {
    "deletable": false,
    "editable": false,
    "nbgrader": {
     "checksum": "287bd637d8295e87715b2c7cdd8149fb",
     "grade": true,
     "grade_id": "test_convert_phred",
     "locked": true,
     "points": 1,
     "schema_version": 1,
     "solution": false
    }
   },
   "outputs": [],
   "source": [
    "#autograder tests, do not change\n",
    "assert convert_phred(\"A\") == 32, \"Phred score incorrect\"\n",
    "assert convert_phred(\"@\") == 31, \"Phred score incorrect\"\n",
    "assert convert_phred(\"#\") == 2, \"Phred score incorrect\""
   ]
  },
  {
   "cell_type": "markdown",
   "metadata": {},
   "source": [
    "3. Within a function called ```populate_array```, open the FASTQ file and loop through every record (*recommend testing your code with a smaller subsample of the file*). Convert the Phred quality score from a letter to its corresponding number and add it to an ongoing sum of the quality scores for each base pair. So, the quality score of the first nucleotide of every read will be summed together in position 0 of the array you create. Likewise, the quality scores of the 101th nucleotide will be stored in position 100 of the array.\n",
    "4. Keep a counter called ```LN``` to keep track of the total number of lines in the file.\n",
    "5. Return the array and the counter."
   ]
  },
  {
   "cell_type": "code",
   "execution_count": 5,
   "metadata": {},
   "outputs": [
    {
     "data": {
      "text/plain": [
       "sys.version_info(major=3, minor=7, micro=3, releaselevel='final', serial=0)"
      ]
     },
     "execution_count": 5,
     "metadata": {},
     "output_type": "execute_result"
    }
   ],
   "source": [
    "import sys\n",
    "sys.version_info"
   ]
  },
  {
   "cell_type": "code",
   "execution_count": 6,
   "metadata": {
    "deletable": false,
    "nbgrader": {
     "checksum": "9a94edfab3aafdec3466e593c9785039",
     "grade": false,
     "grade_id": "Populate_array",
     "locked": false,
     "schema_version": 1,
     "solution": true
    }
   },
   "outputs": [],
   "source": [
    "# Stores a file path to a variable\n",
    "file = \"../lane1_NoIndex_L001_R1_003.fastq\"\n",
    "\n",
    "\n",
    "# Creates a method that takes an instance variable.\n",
    "def populate_array(file):\n",
    "    \n",
    "    # Creates an empty list\n",
    "    mean_scores = []\n",
    "   \n",
    "    # A for loop to insert 101 elements.\n",
    "    for i in range(0,101):\n",
    "        \n",
    "        # Adds a float to the list.\n",
    "        mean_scores.append(0.0)\n",
    "        \n",
    "    # Initiates a variable.\n",
    "    LN = 0\n",
    "    \n",
    "    # opens a text file to read and stores the text file as a variable.\n",
    "    with open(file,\"r\") as fh:\n",
    "        \n",
    "        # A for loop that goes through each line in the text file.\n",
    "        for line in fh:\n",
    "            \n",
    "            # updates the variable by an addition of one after each loop.\n",
    "            LN = LN + 1\n",
    "            \n",
    "            # If statemnt to get the fourth line from each record in text file.\n",
    "            if LN%4 == 0:\n",
    "                \n",
    "                \n",
    "                # A for loop that goes through each character in the line.    \n",
    "                for i in range(len(line)-1):\n",
    "                \n",
    "                        # Stores a character from line to a variable\n",
    "                        char = line[i]\n",
    "                        \n",
    "                        # calls the method with an instance ands stores the\n",
    "                        # result into a variable.\n",
    "                        value = convert_phred(char)\n",
    "                        \n",
    "                        #  stores and sums up values into a list\n",
    "                        mean_scores[i] = mean_scores[i] + value\n",
    "     \n",
    "                        \n",
    "                        \n",
    "                \n",
    "        # retuns a list and a variable           \n",
    "        return mean_scores, LN                 \n",
    "               \n",
    "    \n",
    "      \n"
   ]
  },
  {
   "cell_type": "code",
   "execution_count": 7,
   "metadata": {},
   "outputs": [],
   "source": [
    "#Use this cell to run your populate_array function\n",
    "\n",
    "# Calls method with an instance variable\n",
    "#populate_array(file)\n",
    "\n",
    "\n",
    "# Stores a list and a variable from the return values of a method\n",
    "mean_scores, NR = populate_array(file)\n",
    "\n",
    "# Stores the value of number of records to a varaible.\n",
    "NumRec = NR/4"
   ]
  },
  {
   "cell_type": "code",
   "execution_count": 8,
   "metadata": {
    "deletable": false,
    "editable": false,
    "nbgrader": {
     "checksum": "f9699611dccf2aa226bb56aca6a131b5",
     "grade": true,
     "grade_id": "get_sum",
     "locked": true,
     "points": 1,
     "schema_version": 1,
     "solution": false
    }
   },
   "outputs": [],
   "source": [
    "#autograder tests, do not change\n",
    "file1 = \"test.fastq\"\n",
    "my_array, num_lines = populate_array(file1)\n",
    "assert len(my_array) == 101, \"Array wrong length\"\n",
    "assert num_lines == 400, \"Wrong number of lines reported from file\"\n",
    "assert my_array[54] == 3498.0, \"Incorrect sum in list position 54\"\n",
    "assert my_array[70] == 3170.0, \"Incorrect sum in list position 70\""
   ]
  },
  {
   "cell_type": "markdown",
   "metadata": {},
   "source": [
    "1.\tOnce you have completed summing the quality values, you will calculate the mean quality value at each base and store it back in the array at the appropriate position.\n",
    "2.\tFinally, you will print to the terminal the mean quality scores from the Illumina reads, like this:\n",
    "```\n",
    "# Base Pair\tMean Quality Score\n",
    "0\t\t33.8\n",
    "1\t\t27.2\n",
    "2\t\t31.9\n",
    "...\n",
    "```\n",
    "3.\tPlot these results any way you know how: using Excel, R, gnuplot... \n",
    "\n",
    "    **Challenge** - plot these results inline in your Jupyter Notebook.\n",
    "> *Hint* - if tackling the challenge, look into [matplotlib](https://matplotlib.org/) and the \"magic\" command \n",
    "```\n",
    "% matplotlib inline\n",
    "```\n"
   ]
  },
  {
   "cell_type": "code",
   "execution_count": 9,
   "metadata": {
    "deletable": false,
    "nbgrader": {
     "checksum": "5c82ecd99ddcabc8b4ac37c585e21a7b",
     "grade": true,
     "grade_id": "Avg_qual_score",
     "locked": false,
     "points": 2,
     "schema_version": 1,
     "solution": true
    }
   },
   "outputs": [
    {
     "name": "stdout",
     "output_type": "stream",
     "text": [
      "# Base Pair\t Mean Quality Score\n",
      "0\t32.142458\n",
      "1\t32.488750\n",
      "2\t32.538189\n",
      "3\t35.798274\n",
      "4\t35.640014\n",
      "5\t35.683944\n",
      "6\t36.036789\n",
      "7\t36.218718\n",
      "8\t38.227435\n",
      "9\t38.057896\n",
      "10\t38.171118\n",
      "11\t38.151662\n",
      "12\t37.131284\n",
      "13\t38.477118\n",
      "14\t38.450662\n",
      "15\t38.262161\n",
      "16\t38.268317\n",
      "17\t38.217805\n",
      "18\t38.135284\n",
      "19\t38.085087\n",
      "20\t38.082105\n",
      "21\t37.927988\n",
      "22\t37.930701\n",
      "23\t37.916893\n",
      "24\t37.767422\n",
      "25\t37.776093\n",
      "26\t37.671942\n",
      "27\t37.600926\n",
      "28\t37.516072\n",
      "29\t37.387484\n",
      "30\t37.337638\n",
      "31\t37.460975\n",
      "32\t37.543444\n",
      "33\t37.474149\n",
      "34\t37.427432\n",
      "35\t37.373513\n",
      "36\t37.260646\n",
      "37\t37.182825\n",
      "38\t37.153185\n",
      "39\t37.020335\n",
      "40\t37.004509\n",
      "41\t36.937952\n",
      "42\t36.831277\n",
      "43\t36.684464\n",
      "44\t36.535511\n",
      "45\t36.358294\n",
      "46\t36.278324\n",
      "47\t36.095822\n",
      "48\t35.854086\n",
      "49\t35.728626\n",
      "50\t35.654305\n",
      "51\t35.382937\n",
      "52\t35.262687\n",
      "53\t35.109825\n",
      "54\t34.953466\n",
      "55\t34.755474\n",
      "56\t34.564167\n",
      "57\t34.248597\n",
      "58\t34.069572\n",
      "59\t33.850430\n",
      "60\t33.615026\n",
      "61\t33.472583\n",
      "62\t33.548147\n",
      "63\t33.406123\n",
      "64\t33.333294\n",
      "65\t33.239819\n",
      "66\t33.054893\n",
      "67\t32.917336\n",
      "68\t32.737946\n",
      "69\t32.568905\n",
      "70\t32.377193\n",
      "71\t32.164323\n",
      "72\t32.025463\n",
      "73\t31.868309\n",
      "74\t31.695937\n",
      "75\t30.287321\n",
      "76\t30.942451\n",
      "77\t31.283150\n",
      "78\t31.340279\n",
      "79\t31.340498\n",
      "80\t31.235443\n",
      "81\t31.062530\n",
      "82\t30.973455\n",
      "83\t30.861148\n",
      "84\t30.699448\n",
      "85\t30.565101\n",
      "86\t30.413554\n",
      "87\t30.370317\n",
      "88\t30.248494\n",
      "89\t30.122098\n",
      "90\t30.009402\n",
      "91\t29.938432\n",
      "92\t29.741095\n",
      "93\t29.551014\n",
      "94\t29.441303\n",
      "95\t29.300201\n",
      "96\t29.014792\n",
      "97\t28.848296\n",
      "98\t28.607858\n",
      "99\t28.274758\n",
      "100\t25.483326\n"
     ]
    }
   ],
   "source": [
    "\n",
    "\n",
    "# Prints a statement\n",
    "print(\"# Base Pair\\t\",\"Mean Quality Score\")\n",
    "#populate_array(file)\n",
    "\n",
    "# A for loop that goes through each index in the length of the list. \n",
    "for i in range(len(mean_scores)):\n",
    "  \n",
    "    # Divides each index in the list by the number of records and stores\n",
    "    # the result back to list.\n",
    "    mean_scores[i] = (mean_scores[i])/(NumRec)\n",
    "    \n",
    "    # Prints a statement in a specific format\n",
    "    print(\"{0}\\t{1:f}\".format(i, mean_scores[i]))\n",
    "   \n"
   ]
  },
  {
   "cell_type": "code",
   "execution_count": 10,
   "metadata": {
    "deletable": false,
    "nbgrader": {
     "checksum": "36fc3d8da860199d228221a7b8df37a0",
     "grade": true,
     "grade_id": "mean_plot",
     "locked": false,
     "points": 1,
     "schema_version": 1,
     "solution": true
    }
   },
   "outputs": [
    {
     "data": {
      "text/plain": [
       "Text(0, 0.5, 'Mean Quality Score')"
      ]
     },
     "execution_count": 10,
     "metadata": {},
     "output_type": "execute_result"
    },
    {
     "data": {
      "image/png": "[encoded data removed]",
      "text/plain": [
       "<Figure size 432x288 with 1 Axes>"
      ]
     },
     "metadata": {
      "needs_background": "light"
     },
     "output_type": "display_data"
    }
   ],
   "source": [
    "#Use this cell to generate your plot in Jupyter.\n",
    "#Otherwise, issue a print statement so that the name of your plot file is printed.\n",
    "\n",
    "# imports a module\n",
    "import matplotlib.pyplot as plt\n",
    "\n",
    "# The magic command that prints a plot in Jupyter notebook.\n",
    "%matplotlib inline\n",
    "\n",
    "# Plots mean scores with a point marker\n",
    "plt.plot(mean_scores, '.')\n",
    "\n",
    "# Labels X axis\n",
    "plt.xlabel('Base Pair')\n",
    "\n",
    "# Labels Y axis\n",
    "plt.ylabel('Mean Quality Score')"
   ]
  },
  {
   "cell_type": "markdown",
   "metadata": {},
   "source": [
    "# Part 2 – Extended statistics \n",
    "\n",
    "Calculate the variance and the standard deviation for each position in the Illumina reads. Do not use any statistics packages for this assigment.\n",
    "\n",
    "1.\tYou will now create two additional arrays of the same size, one to hold the variance (called ```var```) and one to hold the standard deviation (called ```stdev```) for each position in the read.\n",
    "2. Modify your print code to include two additional columns to print the variance and standard deviation along with the mean. Include the standard deviation in a new plot."
   ]
  },
  {
   "cell_type": "code",
   "execution_count": null,
   "metadata": {
    "deletable": false,
    "nbgrader": {
     "checksum": "5d454551b7798f4e4207b105e67b24be",
     "grade": false,
     "grade_id": "Extended_stats",
     "locked": false,
     "schema_version": 1,
     "solution": true
    }
   },
   "outputs": [],
   "source": [
    "\n",
    "                    \n",
    "                    \n",
    "\n",
    "                \n",
    "                \n",
    "                "
   ]
  },
  {
   "cell_type": "code",
   "execution_count": 11,
   "metadata": {},
   "outputs": [],
   "source": [
    "# Imports a module\n",
    "import math\n",
    "\n",
    "# Creates a list\n",
    "var=[]\n",
    "stdev=[]\n",
    "\n",
    "# Creates a variable\n",
    "LN = 0\n",
    "\n",
    "# Stores a file path to a variable\n",
    "file = \"../lane1_NoIndex_L001_R1_003.fastq\"\n",
    "\n",
    "# A for loop to insert 101 elements.\n",
    "for i in range(0,101):\n",
    "        # Adds a float to the list.\n",
    "        var.append(0.0)\n",
    "        stdev.append(0.0)\n",
    "\n",
    "# opens a text file to read and stores the text file as a variable.        \n",
    "with open(file,\"r\") as fh:\n",
    "        \n",
    "        # A for loop that goes through each line in the text file.\n",
    "        for line in fh:\n",
    "            \n",
    "            # updates the variable by an addition of one after each loop.\n",
    "            LN = LN + 1\n",
    "            \n",
    "            # If statemnt to get the fourth line from each record in text file.\n",
    "            if LN%4 == 0:\n",
    "                \n",
    "                # A for loop that goes through each character in the line.    \n",
    "                for i in range(len(line)-1):\n",
    "                    \n",
    "                    # Stores a character from line to a variable\n",
    "                    char = line[i]\n",
    "                    \n",
    "                    # calls the method with an instance ands stores the\n",
    "                    # result into a variable.\n",
    "                    value = convert_phred(char)\n",
    "                    \n",
    "                    # Computes the diffrence between a score value and the means \n",
    "                    # score value then squares the result. Stores the result\n",
    "                    # into a list\n",
    "                    var[i] += (mean_scores[i]-value)**2\n",
    "                    \n",
    "# A for loop that goes through each index in the length of the list.                  \n",
    "for i in range(len(var)):\n",
    "    \n",
    "    # Divides the index by the number of records and stores the result back to list.\n",
    "    var[i] = var[i]/NumRec\n",
    "    \n",
    "    # Square roots the index of a list and stores the result to a new list. \n",
    "    stdev[i] = math.sqrt(var[i])\n",
    "    \n",
    "    "
   ]
  },
  {
   "cell_type": "code",
   "execution_count": 12,
   "metadata": {
    "nbgrader": {
     "checksum": "5d454551b7798f4e4207b105e67b24be",
     "grade": false,
     "grade_id": "Extended_stats",
     "locked": false,
     "schema_version": 1,
     "solution": true
    },
    "scrolled": true
   },
   "outputs": [],
   "source": [
    "\n",
    "# #                     print(\"DEBUG mean_scores[i]={}, value={}, i={}, temp={}, temp2={}, var[i]={}\".format(\n",
    "# #                         mean_scores[i], value, i, temp, temp2, var[i]))\n",
    "#                     #print(var[i])\n",
    "                    "
   ]
  },
  {
   "cell_type": "code",
   "execution_count": 13,
   "metadata": {},
   "outputs": [
    {
     "name": "stdout",
     "output_type": "stream",
     "text": [
      "# Base Pair\t Mean Quality Score\t Variance\tStandard Deviation\n",
      "0\t32.142458\t12.952700218371163\t3.598985998635055\n",
      "1\t32.48875\t10.880134937695138\t3.2985049549296024\n",
      "2\t32.538189\t10.222612600400359\t3.197282064566772\n",
      "3\t35.79827425\t13.607210971709382\t3.688795327977602\n",
      "4\t35.6400145\t16.405214938805866\t4.050335163761867\n",
      "5\t35.683944\t16.74728160598006\t4.092344267773676\n",
      "6\t36.0367885\t7.815591605858491\t2.7956379604409602\n",
      "7\t36.21871825\t8.036954576788029\t2.8349523059106354\n",
      "8\t38.22743475\t10.666837684751082\t3.266012505296188\n",
      "9\t38.0578965\t12.03730649490885\t3.469482165238618\n",
      "10\t38.17111775\t11.333607464793001\t3.36654236046318\n",
      "11\t38.151662\t11.807116137183005\t3.4361484451610944\n",
      "12\t37.13128425\t27.840401696013693\t5.276400448792121\n",
      "13\t38.47711775\t36.09485990234785\t6.0078997913037675\n",
      "14\t38.4506625\t36.93192431221588\t6.077164166962735\n",
      "15\t38.2621605\t40.84198987312479\t6.390773808634193\n",
      "16\t38.26831725\t40.58089160197402\t6.370313304851969\n",
      "17\t38.2178055\t42.27536176509091\t6.5019506123232675\n",
      "18\t38.13528375\t45.08207455767075\t6.714318621995143\n",
      "19\t38.0850865\t45.99902178624699\t6.782257867867234\n",
      "20\t38.08210475\t46.249774060966125\t6.800718642979294\n",
      "21\t37.9279885\t48.20084434560245\t6.94268279165932\n",
      "22\t37.9307005\t48.31301707988857\t6.950756583271246\n",
      "23\t37.9168925\t48.833109142263325\t6.988069056775507\n",
      "24\t37.76742225\t50.55906534086687\t7.11048981019359\n",
      "25\t37.77609275\t50.86549229522403\t7.1320047879417485\n",
      "26\t37.67194225\t52.221783860847424\t7.226464132675636\n",
      "27\t37.6009255\t52.88080504253976\t7.271918938116662\n",
      "28\t37.5160725\t54.21834917557843\t7.36331101988626\n",
      "29\t37.3874845\t55.56459226179312\t7.454166101033242\n",
      "30\t37.337638\t54.408547081506704\t7.376214956297485\n",
      "31\t37.46097525\t54.87582706777441\t7.407822019175029\n",
      "32\t37.54344425\t54.08653559836713\t7.354354873023679\n",
      "33\t37.474149\t55.31477922640143\t7.437390619457972\n",
      "34\t37.42743225\t56.669778921773094\t7.527933243711257\n",
      "35\t37.37351275\t57.458895475277906\t7.5801646073998885\n",
      "36\t37.26064575\t59.012464541591044\t7.681957077567606\n",
      "37\t37.182825\t59.92894851806383\t7.741378980392565\n",
      "38\t37.1531845\t60.535323008091574\t7.780444910677767\n",
      "39\t37.02033475\t62.15532125022775\t7.883864613895127\n",
      "40\t37.00450875\t62.3257979232098\t7.894668955897378\n",
      "41\t36.93795225\t63.299527326200845\t7.956100007302626\n",
      "42\t36.8312765\t64.61587687810368\t8.038400144189369\n",
      "43\t36.68446425\t66.24383593911183\t8.139031633991346\n",
      "44\t36.5355115\t67.60667593153266\t8.222327890052346\n",
      "45\t36.35829375\t69.4599953398949\t8.334266334830852\n",
      "46\t36.27832375\t70.01837464096309\t8.367698288117413\n",
      "47\t36.09582175\t72.08625644082186\t8.490362562389302\n",
      "48\t35.85408575\t74.03334728124689\t8.604263320078418\n",
      "49\t35.7286265\t74.56712342392059\t8.63522573091871\n",
      "50\t35.65430525\t74.57443889468446\t8.635649303595212\n",
      "51\t35.382937\t76.88448275567981\t8.768379710965979\n",
      "52\t35.26268725\t77.48673315815286\t8.802654892596486\n",
      "53\t35.10982475\t77.83423777471161\t8.82237143713138\n",
      "54\t34.953466\t78.39560158546303\t8.854129069844364\n",
      "55\t34.7554745\t79.45757927987385\t8.91389809678537\n",
      "56\t34.56416725\t80.47486306462852\t8.970778286449205\n",
      "57\t34.24859675\t82.7672419058345\t9.097650350823255\n",
      "58\t34.069572\t83.22041923570298\t9.122522635527027\n",
      "59\t33.85042975\t83.85830998899961\t9.157418303703267\n",
      "60\t33.6150255\t84.40649813311019\t9.187300916651756\n",
      "61\t33.4725825\t84.76138728121794\t9.2065947712071\n",
      "62\t33.5481465\t83.8294079149816\t9.155840098810245\n",
      "63\t33.40612275\t84.60224106175872\t9.19794765487164\n",
      "64\t33.33329375\t84.05424602616455\t9.168110275632845\n",
      "65\t33.23981875\t83.33322271863912\t9.128703233134436\n",
      "66\t33.0548935\t83.65975470320365\t9.146570652610936\n",
      "67\t32.91733575\t83.23365537301177\t9.1232480714388\n",
      "68\t32.73794625\t83.4656185826031\t9.135951980095074\n",
      "69\t32.56890475\t83.44974413646531\t9.135083148853399\n",
      "70\t32.3771935\t83.34844456367834\t9.129536930407715\n",
      "71\t32.16432325\t84.16248561962686\t9.174011424650988\n",
      "72\t32.025463\t84.00785463149336\t9.165579885173297\n",
      "73\t31.86830875\t84.20107566565068\t9.176114410013133\n",
      "74\t31.695937\t84.65350469116184\t9.20073392133268\n",
      "75\t30.28732125\t81.24797724983777\t9.013765985970446\n",
      "76\t30.94245125\t82.57412639004744\t9.087030669588797\n",
      "77\t31.28315025\t83.31254268479213\t9.127570469998691\n",
      "78\t31.340279\t83.80572070013976\t9.154546449723206\n",
      "79\t31.340498\t83.93234461676349\t9.161459742680938\n",
      "80\t31.23544325\t84.81540122323243\t9.209527741596332\n",
      "81\t31.06252975\t86.1588792785196\t9.282180739380138\n",
      "82\t30.97345525\t86.90894362743315\t9.322496641320562\n",
      "83\t30.86114775\t87.95285980180901\t9.378318602063432\n",
      "84\t30.6994475\t89.5636141962187\t9.46380548174035\n",
      "85\t30.56510075\t90.94680189360346\t9.53660326812453\n",
      "86\t30.41355375\t92.73932204403393\t9.630125754320861\n",
      "87\t30.3703165\t93.52122769189366\t9.670637398429003\n",
      "88\t30.248494\t95.23140223483622\t9.758657809086055\n",
      "89\t30.12209825\t96.93030726598515\t9.84531905353936\n",
      "90\t30.00940225\t98.67662734771123\t9.93361099236885\n",
      "91\t29.93843175\t100.34008860213656\t10.016989997106744\n",
      "92\t29.74109475\t103.5947328196479\t10.17814977388562\n",
      "93\t29.55101375\t106.56350009583424\t10.322959851507427\n",
      "94\t29.441303\t109.06364366384379\t10.443354042827611\n",
      "95\t29.30020075\t112.46938026079094\t10.605158191219541\n",
      "96\t29.014792\t117.48335769622412\t10.838974014925219\n",
      "97\t28.848296\t122.0477213980118\t11.047521052164228\n",
      "98\t28.60785775\t128.20698820419807\t11.322852476483039\n",
      "99\t28.27475775\t135.97499343040755\t11.66083159257553\n",
      "100\t25.483326\t138.51283297838611\t11.769147504317639\n"
     ]
    }
   ],
   "source": [
    "# Prints a statement in a specific format\n",
    "print(\"# Base Pair\\t\",\"Mean Quality Score\\t\", \"Variance\\t\" \"Standard Deviation\")\n",
    "\n",
    "# A for loop that goes through each index in the length of the list. \n",
    "for i in range(len(mean_scores)):\n",
    "    \n",
    "    # Prints a statement in a specific format\n",
    "    print(\"{0}\\t{1}\\t{2}\\t{3}\".format(i, mean_scores[i], var[i], stdev[i]))\n",
    "    \n",
    "\n",
    "\n"
   ]
  },
  {
   "cell_type": "code",
   "execution_count": null,
   "metadata": {},
   "outputs": [],
   "source": []
  },
  {
   "cell_type": "code",
   "execution_count": 14,
   "metadata": {
    "deletable": false,
    "editable": false,
    "nbgrader": {
     "checksum": "06721f8a9f01a6e666a4c5c8aafdf1ac",
     "grade": true,
     "grade_id": "grade_var_stdev",
     "locked": true,
     "points": 3,
     "schema_version": 1,
     "solution": false
    }
   },
   "outputs": [],
   "source": [
    "#autograder tests, do not change\n",
    "assert len(var) == 101\n",
    "assert len(stdev) == 101\n",
    "assert type(var[54]) == float\n",
    "assert type(stdev[54]) == float\n",
    "assert 78.3956 < var[54] < 78.3957\n",
    "assert 8.8541 < stdev[54] < 8.8542\n",
    "assert 96.9302 < var[89] < 96.9304\n",
    "assert 9.8453 < stdev[89] < 9.8454"
   ]
  },
  {
   "cell_type": "code",
   "execution_count": 15,
   "metadata": {
    "deletable": false,
    "nbgrader": {
     "checksum": "86b6a5e6e05a80e44e8b91acf75616be",
     "grade": true,
     "grade_id": "cell-f2f88ea83044a426",
     "locked": false,
     "points": 1,
     "schema_version": 1,
     "solution": true
    }
   },
   "outputs": [
    {
     "data": {
      "text/plain": [
       "<matplotlib.legend.Legend at 0x116c72e10>"
      ]
     },
     "execution_count": 15,
     "metadata": {},
     "output_type": "execute_result"
    },
    {
     "data": {
      "image/png": "[encoded data removed]",
      "text/plain": [
       "<Figure size 432x288 with 1 Axes>"
      ]
     },
     "metadata": {
      "needs_background": "light"
     },
     "output_type": "display_data"
    }
   ],
   "source": [
    "#Use this cell to generate your plot in Jupyter.\n",
    "#Otherwise, issue a print statement so that the name of your plot file is printed.\n",
    "\n",
    "# Imports a module\n",
    "import matplotlib.pyplot as plt\n",
    "\n",
    "# The magic command that prints a plot in Jupyter notebook.\n",
    "%matplotlib inline\n",
    "\n",
    "# Plots mean scores with a point marker\n",
    "plt.plot(mean_scores, '.')\n",
    "\n",
    "# Plots standard deviation with a point marker\n",
    "plt.plot(stdev, '.')\n",
    "\n",
    "# Labels X axis\n",
    "plt.xlabel('Base Pair')\n",
    "\n",
    "# Labels Y axis\n",
    "plt.ylabel('Mean Quality Score')\n",
    "\n",
    "# makes a legend for the figure\n",
    "plt.gca().legend(('Mean Quality Score','Standard Deviation'))"
   ]
  },
  {
   "cell_type": "markdown",
   "metadata": {},
   "source": [
    "# Part 3\n",
    "You will now calculate the median value of each position in the read as well as the full distribution for nucleotide positions 6 and 95.\n",
    "\n",
    "**Warning - be aware this portion is computationally intense. It will talk some time to finish running. You may want to incorporate some print statments to assure yourself your program is progressing.**\n",
    "\n",
    "1.\tYou will need create a two dimensional array (called ```all_qscores```). Instead of initializing each position in your one dimensional array to 0.0, you will instead initialize each position to another empty array.\n",
    "2.\tInstead of simply summing each value at a particular position in the read, now you are going to store all values for that nucleotide position in the array. So, position 5 of your first array will contain an array with all the quality scores for that position from all the Illumina reads in the data set.\n",
    "3.\tSort the values at each position in the array and determine the median value (store in an array called ```median```). Your program should now print for each position in the read: Base Pair, Mean, Variance, Stdev, and Median.\n",
    "4.\tOpen a new file for writing called ```p6.tsv``` - for position 6 in the array, sum the number of occurrences of each quality score and print it out to the file.\n",
    "\n",
    "    >*Summing the number of occurrences will give you a distribution of quality scores, that occurred in position 6 across all the reads in our data set.*\n",
    "    \n",
    "5.\tRepeat this process for position 95 in the array in a file called ```p95.tsv```.\n",
    "6.\tPlot the distribution of quality scores for these two positions. If you would like to challenge yourself, plot inline with matlabplot.\n"
   ]
  },
  {
   "cell_type": "code",
   "execution_count": 16,
   "metadata": {
    "deletable": false,
    "nbgrader": {
     "checksum": "4b89f62d0f617e4899d484e5bf6bb81d",
     "grade": false,
     "grade_id": "array_of_arrays",
     "locked": false,
     "schema_version": 1,
     "solution": true
    }
   },
   "outputs": [
    {
     "name": "stdout",
     "output_type": "stream",
     "text": [
      "# Base Pair\t Mean Quality Score\t Variance\t Standard Deviation\t Median\n",
      "0\t32.142458\t12.952700218371163\t3.598985998635055\t34.0\n",
      "1\t32.48875\t10.880134937695138\t3.2985049549296024\t34.0\n",
      "2\t32.538189\t10.222612600400359\t3.197282064566772\t34.0\n",
      "3\t35.79827425\t13.607210971709382\t3.688795327977602\t37.0\n",
      "4\t35.6400145\t16.405214938805866\t4.050335163761867\t37.0\n",
      "5\t35.683944\t16.74728160598006\t4.092344267773676\t37.0\n",
      "6\t36.0367885\t7.815591605858491\t2.7956379604409602\t37.0\n",
      "7\t36.21871825\t8.036954576788029\t2.8349523059106354\t37.0\n",
      "8\t38.22743475\t10.666837684751082\t3.266012505296188\t39.0\n",
      "9\t38.0578965\t12.03730649490885\t3.469482165238618\t39.0\n",
      "10\t38.17111775\t11.333607464793001\t3.36654236046318\t39.0\n",
      "11\t38.151662\t11.807116137183005\t3.4361484451610944\t39.0\n",
      "12\t37.13128425\t27.840401696013693\t5.276400448792121\t39.0\n",
      "13\t38.47711775\t36.09485990234785\t6.0078997913037675\t41.0\n",
      "14\t38.4506625\t36.93192431221588\t6.077164166962735\t41.0\n",
      "15\t38.2621605\t40.84198987312479\t6.390773808634193\t40.0\n",
      "16\t38.26831725\t40.58089160197402\t6.370313304851969\t40.0\n",
      "17\t38.2178055\t42.27536176509091\t6.5019506123232675\t40.0\n",
      "18\t38.13528375\t45.08207455767075\t6.714318621995143\t40.0\n",
      "19\t38.0850865\t45.99902178624699\t6.782257867867234\t40.0\n",
      "20\t38.08210475\t46.249774060966125\t6.800718642979294\t40.0\n",
      "21\t37.9279885\t48.20084434560245\t6.94268279165932\t40.0\n",
      "22\t37.9307005\t48.31301707988857\t6.950756583271246\t40.0\n",
      "23\t37.9168925\t48.833109142263325\t6.988069056775507\t40.0\n",
      "24\t37.76742225\t50.55906534086687\t7.11048981019359\t40.0\n",
      "25\t37.77609275\t50.86549229522403\t7.1320047879417485\t40.0\n",
      "26\t37.67194225\t52.221783860847424\t7.226464132675636\t40.0\n",
      "27\t37.6009255\t52.88080504253976\t7.271918938116662\t40.0\n",
      "28\t37.5160725\t54.21834917557843\t7.36331101988626\t40.0\n",
      "29\t37.3874845\t55.56459226179312\t7.454166101033242\t40.0\n",
      "30\t37.337638\t54.408547081506704\t7.376214956297485\t40.0\n",
      "31\t37.46097525\t54.87582706777441\t7.407822019175029\t40.0\n",
      "32\t37.54344425\t54.08653559836713\t7.354354873023679\t40.0\n",
      "33\t37.474149\t55.31477922640143\t7.437390619457972\t40.0\n",
      "34\t37.42743225\t56.669778921773094\t7.527933243711257\t40.0\n",
      "35\t37.37351275\t57.458895475277906\t7.5801646073998885\t40.0\n",
      "36\t37.26064575\t59.012464541591044\t7.681957077567606\t40.0\n",
      "37\t37.182825\t59.92894851806383\t7.741378980392565\t40.0\n",
      "38\t37.1531845\t60.535323008091574\t7.780444910677767\t40.0\n",
      "39\t37.02033475\t62.15532125022775\t7.883864613895127\t40.0\n",
      "40\t37.00450875\t62.3257979232098\t7.894668955897378\t40.0\n",
      "41\t36.93795225\t63.299527326200845\t7.956100007302626\t40.0\n",
      "42\t36.8312765\t64.61587687810368\t8.038400144189369\t40.0\n",
      "43\t36.68446425\t66.24383593911183\t8.139031633991346\t40.0\n",
      "44\t36.5355115\t67.60667593153266\t8.222327890052346\t40.0\n",
      "45\t36.35829375\t69.4599953398949\t8.334266334830852\t40.0\n",
      "46\t36.27832375\t70.01837464096309\t8.367698288117413\t39.0\n",
      "47\t36.09582175\t72.08625644082186\t8.490362562389302\t39.0\n",
      "48\t35.85408575\t74.03334728124689\t8.604263320078418\t39.0\n",
      "49\t35.7286265\t74.56712342392059\t8.63522573091871\t39.0\n",
      "50\t35.65430525\t74.57443889468446\t8.635649303595212\t39.0\n",
      "51\t35.382937\t76.88448275567981\t8.768379710965979\t38.0\n",
      "52\t35.26268725\t77.48673315815286\t8.802654892596486\t38.0\n",
      "53\t35.10982475\t77.83423777471161\t8.82237143713138\t38.0\n",
      "54\t34.953466\t78.39560158546303\t8.854129069844364\t38.0\n",
      "55\t34.7554745\t79.45757927987385\t8.91389809678537\t37.0\n",
      "56\t34.56416725\t80.47486306462852\t8.970778286449205\t37.0\n",
      "57\t34.24859675\t82.7672419058345\t9.097650350823255\t37.0\n",
      "58\t34.069572\t83.22041923570298\t9.122522635527027\t36.0\n",
      "59\t33.85042975\t83.85830998899961\t9.157418303703267\t36.0\n",
      "60\t33.6150255\t84.40649813311019\t9.187300916651756\t36.0\n",
      "61\t33.4725825\t84.76138728121794\t9.2065947712071\t35.0\n",
      "62\t33.5481465\t83.8294079149816\t9.155840098810245\t35.0\n",
      "63\t33.40612275\t84.60224106175872\t9.19794765487164\t35.0\n",
      "64\t33.33329375\t84.05424602616455\t9.168110275632845\t35.0\n",
      "65\t33.23981875\t83.33322271863912\t9.128703233134436\t35.0\n",
      "66\t33.0548935\t83.65975470320365\t9.146570652610936\t35.0\n",
      "67\t32.91733575\t83.23365537301177\t9.1232480714388\t35.0\n",
      "68\t32.73794625\t83.4656185826031\t9.135951980095074\t35.0\n",
      "69\t32.56890475\t83.44974413646531\t9.135083148853399\t35.0\n",
      "70\t32.3771935\t83.34844456367834\t9.129536930407715\t35.0\n",
      "71\t32.16432325\t84.16248561962686\t9.174011424650988\t35.0\n",
      "72\t32.025463\t84.00785463149336\t9.165579885173297\t35.0\n",
      "73\t31.86830875\t84.20107566565068\t9.176114410013133\t35.0\n",
      "74\t31.695937\t84.65350469116184\t9.20073392133268\t35.0\n",
      "75\t30.28732125\t81.24797724983777\t9.013765985970446\t34.0\n",
      "76\t30.94245125\t82.57412639004744\t9.087030669588797\t34.0\n",
      "77\t31.28315025\t83.31254268479213\t9.127570469998691\t35.0\n",
      "78\t31.340279\t83.80572070013976\t9.154546449723206\t35.0\n",
      "79\t31.340498\t83.93234461676349\t9.161459742680938\t35.0\n",
      "80\t31.23544325\t84.81540122323243\t9.209527741596332\t35.0\n",
      "81\t31.06252975\t86.1588792785196\t9.282180739380138\t35.0\n",
      "82\t30.97345525\t86.90894362743315\t9.322496641320562\t35.0\n",
      "83\t30.86114775\t87.95285980180901\t9.378318602063432\t35.0\n",
      "84\t30.6994475\t89.5636141962187\t9.46380548174035\t35.0\n",
      "85\t30.56510075\t90.94680189360346\t9.53660326812453\t35.0\n",
      "86\t30.41355375\t92.73932204403393\t9.630125754320861\t35.0\n",
      "87\t30.3703165\t93.52122769189366\t9.670637398429003\t35.0\n",
      "88\t30.248494\t95.23140223483622\t9.758657809086055\t35.0\n",
      "89\t30.12209825\t96.93030726598515\t9.84531905353936\t34.0\n",
      "90\t30.00940225\t98.67662734771123\t9.93361099236885\t34.0\n",
      "91\t29.93843175\t100.34008860213656\t10.016989997106744\t34.0\n",
      "92\t29.74109475\t103.5947328196479\t10.17814977388562\t34.0\n",
      "93\t29.55101375\t106.56350009583424\t10.322959851507427\t34.0\n",
      "94\t29.441303\t109.06364366384379\t10.443354042827611\t34.0\n",
      "95\t29.30020075\t112.46938026079094\t10.605158191219541\t34.0\n",
      "96\t29.014792\t117.48335769622412\t10.838974014925219\t34.0\n",
      "97\t28.848296\t122.0477213980118\t11.047521052164228\t34.0\n",
      "98\t28.60785775\t128.20698820419807\t11.322852476483039\t34.0\n",
      "99\t28.27475775\t135.97499343040755\t11.66083159257553\t34.0\n",
      "100\t25.483326\t138.51283297838611\t11.769147504317639\t31.0\n"
     ]
    }
   ],
   "source": [
    "# Creates a list\n",
    "all_qscores=[]\n",
    "sort_score=[]\n",
    "median=[]\n",
    "\n",
    "# Stores a file path to a variable\n",
    "file = \"../lane1_NoIndex_L001_R1_003.fastq\"\n",
    "\n",
    "\n",
    "# A for loop to insert 101 elements.\n",
    "for i in range(101):\n",
    "    \n",
    "    # Adds an array to the list.\n",
    "    all_qscores.append([])\n",
    "    \n",
    "    # Adds an float to the list.\n",
    "    median.append(0.0)\n",
    "    \n",
    "    # Creates a variable\n",
    "    LN = 0\n",
    "    \n",
    "# opens a text file to read and stores the text file as a variable.     \n",
    "with open(file,\"r\") as fh:\n",
    "    \n",
    "    # A for loop that goes through each line in the text file.\n",
    "    for line in fh:\n",
    "        \n",
    "        # updates the variable by an addition of one after each loop.\n",
    "        LN = LN + 1\n",
    "        \n",
    "        # If statemnt to get the fourth line from each record in text file.\n",
    "        if LN%4 == 0:\n",
    "            \n",
    "            # A for loop that goes through each character in the line.\n",
    "            for i in range(len(line)-1):\n",
    "           \n",
    "                    # Stores a character from line to a variable\n",
    "                    char = line[i]\n",
    "                \n",
    "                    # calls the method with an instance ands stores the\n",
    "                    # result into a variable. \n",
    "                    value = convert_phred(char)\n",
    "                    \n",
    "                    # stores a value in a list that is an index of another list\n",
    "                    all_qscores[i].append(value)\n",
    "                    \n",
    "                    \n",
    "                \n",
    "#length = len(all_qscores)\n",
    "#for i in range(length):\n",
    "\n",
    "# A for loop that goes through each index in the length of the list.\n",
    "for i in range(len(all_qscores)):\n",
    "   \n",
    "    # sorts a list that is an index of another list\n",
    "    all_qscores[i].sort()\n",
    "    \n",
    "    # If statement that checks if the index length of the list \n",
    "    #is divisible by two\n",
    "    if len(all_qscores[i]) % 2 == 0:\n",
    "        \n",
    "        # If true then stores the computated mid point of the list into a varaible.\n",
    "        # lenght of the list divided by 2.\n",
    "        med = int(len(all_qscores[i])/2)\n",
    "       \n",
    "        # If true then stores the index value that is in the index position\n",
    "        # before the mid way point into variable.\n",
    "        medL = all_qscores[i][med-1]\n",
    "        \n",
    "        # If true then stores the index value that is in the index position \n",
    "        # after the mid point into variable.\n",
    "        medR = all_qscores[i][med]\n",
    "       \n",
    "        # Stores and computes the average of the two mid points value of a \n",
    "        # even length list into a list.\n",
    "        median[i] = (medL + medR)/2\n",
    "       \n",
    "    else:\n",
    "        \n",
    "        # If false then stores the computated half way point of the list into a variable.\n",
    "        # lenght of the list divided by 2 into a variable\n",
    "        med_odd = int(len(all_qscores[i])/2)\n",
    "        \n",
    "        # Stores index value at the mid point of an odd length list into a list.\n",
    "        median[i]=all_qscores[i][med_odd]\n",
    "        \n",
    "\n",
    "# Prints a statement in a specific format        \n",
    "print(\"# Base Pair\\t\",\"Mean Quality Score\\t\", \"Variance\\t\", \"Standard Deviation\\t\", \"Median\")               \n",
    "\n",
    "# A for loop that goes through each index in the length of the list.\n",
    "for i in range(len(mean_scores)):\n",
    "    \n",
    "    # Prints a statement in a specific format \n",
    "    print(\"{0}\\t{1}\\t{2}\\t{3}\\t{4}\".format(i, mean_scores[i],var[i], stdev[i], median[i]))\n",
    "\n",
    "\n",
    "# Creates an empty dictionary\n",
    "dict={}\n",
    "dict2={}\n",
    "\n",
    "# opens a tsv file to write and stores the tsv file into a variable.\n",
    "f1 = open(\"p6.tsv\", \"w\")\n",
    "f2 = open(\"p95.tsv\", \"w\")\n",
    "\n",
    "# A for loop that goes through the length of specific index that has a list. \n",
    "for i in range(len(all_qscores[6])):\n",
    "    \n",
    "    # If statement that checks if the value in the list is in the dictionary.\n",
    "    if all_qscores[6][i] in dict.keys():\n",
    "        \n",
    "        # If true then add a 1 to the value of the key. \n",
    "        dict[all_qscores[6][i]]+=1\n",
    "                  \n",
    "                   \n",
    "    else:\n",
    "        \n",
    "        # If false, then store 1 as a value for the key.\n",
    "        dict[all_qscores[6][i]]=1\n",
    "   \n",
    "       \n",
    "    \n",
    "# A for loop that goes through the length of specific index that has a list. \n",
    "for i in range(len(all_qscores[95])):\n",
    "    \n",
    "    # If statement that checks if the value in the list is in the dictionary.\n",
    "    if all_qscores[95][i] in dict2.keys():\n",
    "       \n",
    "        # If true then add a 1 to the value of the key. \n",
    "        dict2[all_qscores[95][i]]+=1\n",
    "                  \n",
    "                   \n",
    "    else:\n",
    "        \n",
    "        # If false, then store 1 as a value for the key.\n",
    "        dict2[all_qscores[95][i]]=1\n",
    " \n",
    "# A for loop that goes through the items in the dictionary.\n",
    "for key, value in dict.items():\n",
    "    \n",
    "    # writes the formatted output to the tsv file.\n",
    "    f1.write(\"{0}\\t{1}\\n\".format(key,value))\n",
    "    \n",
    "f1.close()\n",
    "    \n",
    "# writes the formatted output to the tsv file.    \n",
    "for key, value in dict2.items():\n",
    "    \n",
    "    # writes the formatted output to the tsv file.\n",
    "    f2.write(\"{0}\\t{1}\\n\".format(key,value))\n",
    "    \n",
    "f2.close()   \n",
    "                   \n"
   ]
  },
  {
   "cell_type": "code",
   "execution_count": 17,
   "metadata": {
    "deletable": false,
    "nbgrader": {
     "checksum": "a8900af44ab9863d3921a69044791c70",
     "grade": true,
     "grade_id": "Pos6_plot",
     "locked": false,
     "points": 1,
     "schema_version": 1,
     "solution": true
    }
   },
   "outputs": [
    {
     "data": {
      "text/plain": [
       "Text(0, 0.5, 'Number of occurrences')"
      ]
     },
     "execution_count": 17,
     "metadata": {},
     "output_type": "execute_result"
    },
    {
     "data": {
      "image/png": "[encoded data removed]",
      "text/plain": [
       "<Figure size 432x288 with 1 Axes>"
      ]
     },
     "metadata": {
      "needs_background": "light"
     },
     "output_type": "display_data"
    }
   ],
   "source": [
    "# A for loop that goes through the items in the dictionary.\n",
    "for key, value in dict.items():\n",
    "    \n",
    "    # Plots the distribution of quality scores of a specific index position \n",
    "    # in the array.\n",
    "    plt.bar(key,value)\n",
    "    \n",
    "# Labels a title\n",
    "plt.title('p6')\n",
    "\n",
    "# Labels X axis\n",
    "plt.xlabel('Mean Quality Score')\n",
    "\n",
    "# Labels Y axis\n",
    "plt.ylabel('Number of occurrences')\n",
    "\n",
    "\n",
    "\n",
    "\n"
   ]
  },
  {
   "cell_type": "code",
   "execution_count": 18,
   "metadata": {
    "deletable": false,
    "nbgrader": {
     "checksum": "e96e86a3aaf003b18525c83a76a21ae0",
     "grade": true,
     "grade_id": "Pos95_plot",
     "locked": false,
     "points": 1,
     "schema_version": 1,
     "solution": true
    }
   },
   "outputs": [
    {
     "data": {
      "text/plain": [
       "Text(0, 0.5, 'Number of occurrences')"
      ]
     },
     "execution_count": 18,
     "metadata": {},
     "output_type": "execute_result"
    },
    {
     "data": {
      "image/png": "[encoded data removed]",
      "text/plain": [
       "<Figure size 432x288 with 1 Axes>"
      ]
     },
     "metadata": {
      "needs_background": "light"
     },
     "output_type": "display_data"
    }
   ],
   "source": [
    "#Use this cell to generate your position 95 plot in Jupyter.\n",
    "#Otherwise, issue a print statement so that the name of your plot file is printed.\n",
    "\n",
    "# A for loop that goes through the items in the dictionary.\n",
    "for key, value in dict2.items():\n",
    "    \n",
    "    # Plots the distribution of quality scores of a specific index position \n",
    "    # in the array.\n",
    "    plt.bar(key,value)\n",
    "    \n",
    "# Labels a title\n",
    "plt.title('p95')\n",
    "\n",
    "# Labels X axis\n",
    "plt.xlabel('Mean Quality Score')\n",
    "\n",
    "# Labels Y axis\n",
    "plt.ylabel('Number of occurrences')\n",
    "\n"
   ]
  },
  {
   "cell_type": "code",
   "execution_count": 22,
   "metadata": {
    "deletable": false,
    "editable": false,
    "nbgrader": {
     "checksum": "6c45fdd9a7f6217d771c2a98a5e6411a",
     "grade": true,
     "grade_id": "grade_array_of_arrays",
     "locked": true,
     "points": 3,
     "schema_version": 1,
     "solution": false
    }
   },
   "outputs": [],
   "source": [
    "assert len(all_qscores) == 101\n",
    "assert len(all_qscores[47]) == 4000000\n",
    "assert all_qscores[57][826109] == 33\n",
    "assert median[54] == 38\n",
    "assert median[99] == 34\n",
    "assert all_qscores[1][500000:500200] == [31]*200\n",
    "assert all_qscores[97][3999900:4000000] == [39]*85 + [40]*5 + [41]*10"
   ]
  },
  {
   "cell_type": "code",
   "execution_count": null,
   "metadata": {},
   "outputs": [],
   "source": []
  }
 ],
 "metadata": {
  "kernelspec": {
   "display_name": "Python 3",
   "language": "python",
   "name": "python3"
  },
  "language_info": {
   "codemirror_mode": {
    "name": "ipython",
    "version": 3
   },
   "file_extension": ".py",
   "mimetype": "text/x-python",
   "name": "python",
   "nbconvert_exporter": "python",
   "pygments_lexer": "ipython3",
   "version": "3.7.3"
  }
 },
 "nbformat": 4,
 "nbformat_minor": 2
}
